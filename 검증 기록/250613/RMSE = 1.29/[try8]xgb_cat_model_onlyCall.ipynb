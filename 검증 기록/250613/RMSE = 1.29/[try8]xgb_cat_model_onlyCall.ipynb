{
 "cells": [
  {
   "cell_type": "code",
   "execution_count": 52,
   "id": "ad4fdaae",
   "metadata": {},
   "outputs": [],
   "source": [
    "import pandas as pd\n",
    "import numpy as np\n",
    "\n",
    "from catboost import CatBoostRegressor\n",
    "from xgboost import XGBRegressor\n",
    "from sklearn.model_selection import train_test_split\n",
    "from sklearn.metrics import mean_squared_error\n",
    "from sklearn.preprocessing import LabelEncoder, RobustScaler"
   ]
  },
  {
   "cell_type": "code",
   "execution_count": 53,
   "id": "b557baf6",
   "metadata": {},
   "outputs": [],
   "source": [
    "# -----------------------------\n",
    "# 학습 데이터 로딩 및 전처리\n",
    "# -----------------------------\n",
    "call_df = pd.read_csv(\"call119_train.csv\", index_col=0)\n",
    "\n",
    "# 컬럼명 통일\n",
    "call_df = call_df.rename(columns={\n",
    "    'call119_train.tm': 'tm',\n",
    "    'call119_train.address_city': 'city',\n",
    "    'call119_train.address_gu': 'gu',\n",
    "    'call119_train.sub_address': 'dong',\n",
    "    'call119_train.stn': 'stn',\n",
    "    'call119_train.ta_max': 'ta_max',\n",
    "    'call119_train.ta_min': 'ta_min',\n",
    "    'call119_train.ta_max_min': 'ta_max_min',\n",
    "    'call119_train.hm_min': 'hm_min',\n",
    "    'call119_train.hm_max': 'hm_max',\n",
    "    'call119_train.ws_max': 'ws_max',\n",
    "    'call119_train.ws_ins_max': 'ws_ins_max',\n",
    "    'call119_train.rn_day': 'rn_day',\n",
    "    'call119_train.call_count': 'call_total'\n",
    "})\n",
    "\n",
    "# 숫자형 처리 및 결측 제거\n",
    "num_cols = ['ta_max', 'ta_min', 'ta_max_min', 'hm_min', 'hm_max', 'ws_max', 'ws_ins_max', 'rn_day']\n",
    "for col in num_cols:\n",
    "    call_df[col] = pd.to_numeric(call_df[col], errors='coerce')\n",
    "    call_df[col] = call_df[col].replace(-99.0, np.nan)\n",
    "\n",
    "call_df = call_df.dropna(subset=num_cols + ['call_total'])"
   ]
  },
  {
   "cell_type": "code",
   "execution_count": 54,
   "id": "fc18d07e",
   "metadata": {},
   "outputs": [],
   "source": [
    "# 파생 변수 생성\n",
    "call_df[\"tm\"] = pd.to_datetime(call_df[\"tm\"].astype(str))\n",
    "call_df[\"month\"] = call_df[\"tm\"].dt.month\n",
    "call_df[\"day\"] = call_df[\"tm\"].dt.day\n",
    "call_df[\"weekday\"] = call_df[\"tm\"].dt.weekday\n",
    "call_df[\"is_weekend\"] = call_df[\"weekday\"].isin([5, 6]).astype(int)\n",
    "call_df[\"region\"] = call_df[\"city\"] + \"_\" + call_df[\"gu\"]\n",
    "call_df[\"ta_mean\"] = (call_df[\"ta_min\"] + call_df[\"ta_max\"]) / 2\n",
    "call_df[\"m_day_bin\"] = pd.cut(call_df[\"rn_day\"], bins=[-1, 0, 10, 30, 70, np.inf], labels=False)\n",
    "call_df[\"ws_ins_max_bin\"] = pd.cut(call_df[\"ws_ins_max\"], bins=[-1, 5, 10, 15, 20, np.inf], labels=False)\n",
    "call_df[\"ws_max_bin\"] = pd.cut(call_df[\"ws_max\"], bins=[-1, 3, 6, 9, 12, np.inf], labels=False)\n",
    "\n",
    "# 불필요한 컬럼 제거\n",
    "drop_cols = [\"tm\", \"city\", \"gu\", \"dong\", \"rn_day\", \"ws_ins_max\", \"ws_max\"]\n",
    "call_df = call_df.drop(columns=drop_cols)"
   ]
  },
  {
   "cell_type": "code",
   "execution_count": 55,
   "id": "5438cad5",
   "metadata": {},
   "outputs": [],
   "source": [
    "# 학습/검증 분할\n",
    "X = call_df.drop(columns=[\"call_total\"])\n",
    "y = call_df[\"call_total\"]\n",
    "X_train, X_valid, y_train, y_valid = train_test_split(X, y, test_size=0.2, random_state=42)\n",
    "\n",
    "# 인코딩 및 스케일링\n",
    "categorical_cols = [\"region\", \"stn\"]\n",
    "le_dict = {}\n",
    "X_train_xgb = X_train.copy()\n",
    "X_valid_xgb = X_valid.copy()\n",
    "for col in categorical_cols:\n",
    "    le = LabelEncoder()\n",
    "    X_train_xgb[col] = le.fit_transform(X_train_xgb[col])\n",
    "    X_valid_xgb[col] = le.transform(X_valid_xgb[col])\n",
    "    le_dict[col] = le\n",
    "\n",
    "scaler = RobustScaler()\n",
    "X_train_xgb = scaler.fit_transform(X_train_xgb)\n",
    "X_valid_xgb = scaler.transform(X_valid_xgb)\n",
    "\n",
    "# CatBoost는 원본 카테고리 유지\n",
    "X_train_cat = X_train.copy()\n",
    "X_valid_cat = X_valid.copy()"
   ]
  },
  {
   "cell_type": "code",
   "execution_count": 56,
   "id": "d4070cc2",
   "metadata": {},
   "outputs": [
    {
     "name": "stdout",
     "output_type": "stream",
     "text": [
      "[0]\tvalidation_0-rmse:1.57734\n",
      "[100]\tvalidation_0-rmse:1.40906\n",
      "[200]\tvalidation_0-rmse:1.41412\n",
      "[300]\tvalidation_0-rmse:1.41687\n",
      "[400]\tvalidation_0-rmse:1.41860\n",
      "[500]\tvalidation_0-rmse:1.41805\n",
      "[600]\tvalidation_0-rmse:1.42134\n",
      "[700]\tvalidation_0-rmse:1.41898\n",
      "[800]\tvalidation_0-rmse:1.42150\n",
      "[900]\tvalidation_0-rmse:1.42156\n",
      "[999]\tvalidation_0-rmse:1.42222\n",
      "0:\tlearn: 1.7535010\ttest: 1.5787404\tbest: 1.5787404 (0)\ttotal: 17.8ms\tremaining: 26.7s\n",
      "100:\tlearn: 1.4814583\ttest: 1.4203793\tbest: 1.4202986 (99)\ttotal: 1.47s\tremaining: 20.3s\n",
      "200:\tlearn: 1.4339523\ttest: 1.4053933\tbest: 1.4053933 (200)\ttotal: 2.96s\tremaining: 19.1s\n",
      "300:\tlearn: 1.4179329\ttest: 1.3996680\tbest: 1.3996680 (300)\ttotal: 4.39s\tremaining: 17.5s\n",
      "400:\tlearn: 1.4072985\ttest: 1.3977756\tbest: 1.3977756 (400)\ttotal: 5.86s\tremaining: 16.1s\n",
      "500:\tlearn: 1.3973031\ttest: 1.3969445\tbest: 1.3969445 (500)\ttotal: 7.34s\tremaining: 14.6s\n",
      "600:\tlearn: 1.3876235\ttest: 1.3969708\tbest: 1.3962824 (576)\ttotal: 8.83s\tremaining: 13.2s\n",
      "Stopped by overfitting detector  (100 iterations wait)\n",
      "\n",
      "bestTest = 1.396282447\n",
      "bestIteration = 576\n",
      "\n",
      "Shrink model to first 577 iterations.\n"
     ]
    },
    {
     "data": {
      "text/plain": [
       "<catboost.core.CatBoostRegressor at 0x292029e80e0>"
      ]
     },
     "execution_count": 56,
     "metadata": {},
     "output_type": "execute_result"
    }
   ],
   "source": [
    "# 모델 학습\n",
    "xgb_model = XGBRegressor(\n",
    "    n_estimators=1000,\n",
    "    learning_rate=0.02,\n",
    "    max_depth=6,\n",
    "    subsample=0.8,\n",
    "    colsample_bytree=0.8,\n",
    "    reg_alpha=1.0,\n",
    "    reg_lambda=2.0,\n",
    "    random_state=42,\n",
    "    tree_method=\"hist\"\n",
    ")\n",
    "xgb_model.fit(X_train_xgb, y_train, eval_set=[(X_valid_xgb, y_valid)], verbose=100)\n",
    "\n",
    "cat_model = CatBoostRegressor(\n",
    "    iterations=1500,\n",
    "    learning_rate=0.02,\n",
    "    depth=6,\n",
    "    l2_leaf_reg=5,\n",
    "    bagging_temperature=1.0,\n",
    "    random_strength=1.5,\n",
    "    random_seed=42,\n",
    "    verbose=100,\n",
    "    loss_function=\"RMSE\",\n",
    "    early_stopping_rounds=100\n",
    ")\n",
    "cat_model.fit(X_train_cat, y_train, eval_set=(X_valid_cat, y_valid), cat_features=categorical_cols)"
   ]
  },
  {
   "cell_type": "code",
   "execution_count": 59,
   "id": "406e53da",
   "metadata": {},
   "outputs": [
    {
     "name": "stdout",
     "output_type": "stream",
     "text": [
      "CatBoost RMSE: 1.3963\n",
      "XGBoost RMSE: 1.4222\n",
      "앙상블 RMSE: 1.3985\n"
     ]
    }
   ],
   "source": [
    "# 예측\n",
    "cat_preds = cat_model.predict(X_valid_cat)\n",
    "xgb_preds = xgb_model.predict(X_valid_xgb)\n",
    "\n",
    "# RMSE 계산\n",
    "cat_rmse = np.sqrt(mean_squared_error(y_valid, cat_preds))\n",
    "xgb_rmse = np.sqrt(mean_squared_error(y_valid, xgb_preds))\n",
    "\n",
    "# 앙상블 예측 및 RMSE\n",
    "final_preds = 0.45 * xgb_preds + 0.55 * cat_preds\n",
    "ensemble_rmse = np.sqrt(mean_squared_error(y_valid, final_preds))\n",
    "\n",
    "# 출력\n",
    "print(f\"CatBoost RMSE: {cat_rmse:.4f}\")\n",
    "print(f\"XGBoost RMSE: {xgb_rmse:.4f}\")\n",
    "print(f\"앙상블 RMSE: {ensemble_rmse:.4f}\")"
   ]
  },
  {
   "cell_type": "code",
   "execution_count": 66,
   "id": "0c5d779f",
   "metadata": {},
   "outputs": [],
   "source": [
    "# 테스트 데이터 로드 및 전처리\n",
    "test_df = pd.read_csv(\"test_call119.csv\")\n",
    "\n",
    "# 컬럼명 통일\n",
    "test_df = test_df.rename(columns={\n",
    "    'TM': 'tm',\n",
    "    'address_city': 'city',\n",
    "    'address_gu': 'gu',\n",
    "    'sub_address': 'dong',\n",
    "    'STN': 'stn',\n",
    "    'ta_max': 'ta_max',\n",
    "    'ta_min': 'ta_min',\n",
    "    'ta_max_min': 'ta_max_min',\n",
    "    'hm_min': 'hm_min',\n",
    "    'hm_max': 'hm_max',\n",
    "    'ws_max': 'ws_max',\n",
    "    'ws_ins_max': 'ws_ins_max',\n",
    "    'rn_day': 'rn_day',\n",
    "    'call_count': 'call_total'  # 실제 예측 대상\n",
    "})\n",
    "\n",
    "# 수치형 처리\n",
    "num_cols = ['ta_max', 'ta_min', 'ta_max_min', 'hm_min', 'hm_max', 'ws_max', 'ws_ins_max', 'rn_day']\n",
    "for col in num_cols:\n",
    "    test_df[col] = pd.to_numeric(test_df[col], errors='coerce')\n",
    "    test_df[col] = test_df[col].replace(-99.0, np.nan)\n",
    "\n",
    "# 파생변수 생성\n",
    "test_df[\"tm\"] = pd.to_datetime(test_df[\"tm\"].astype(str))\n",
    "test_df[\"month\"] = test_df[\"tm\"].dt.month\n",
    "test_df[\"day\"] = test_df[\"tm\"].dt.day\n",
    "test_df[\"weekday\"] = test_df[\"tm\"].dt.weekday\n",
    "test_df[\"is_weekend\"] = test_df[\"weekday\"].isin([5, 6]).astype(int)\n",
    "test_df[\"region\"] = test_df[\"city\"] + \"_\" + test_df[\"gu\"]\n",
    "test_df[\"ta_mean\"] = (test_df[\"ta_min\"] + test_df[\"ta_max\"]) / 2\n",
    "test_df[\"m_day_bin\"] = pd.cut(test_df[\"rn_day\"], bins=[-1, 0, 10, 30, 70, np.inf], labels=False)\n",
    "test_df[\"ws_ins_max_bin\"] = pd.cut(test_df[\"ws_ins_max\"], bins=[-1, 5, 10, 15, 20, np.inf], labels=False)\n",
    "test_df[\"ws_max_bin\"] = pd.cut(test_df[\"ws_max\"], bins=[-1, 3, 6, 9, 12, np.inf], labels=False)\n",
    "\n",
    "# 원래 학습에서 제거했던 컬럼과 동일하게 제거\n",
    "drop_cols = [\"tm\", \"city\", \"gu\", \"dong\", \"rn_day\", \"ws_ins_max\", \"ws_max\", \"call_total\"]\n",
    "test_features = test_df.drop(columns=drop_cols).copy()"
   ]
  },
  {
   "cell_type": "code",
   "execution_count": 67,
   "id": "73669ded",
   "metadata": {},
   "outputs": [],
   "source": [
    "# -------------------------------\n",
    "# ✅ XGBoost용 인코딩 + 스케일링\n",
    "# -------------------------------\n",
    "# 저장된 label encoder 적용\n",
    "for col in [\"region\", \"stn\"]:\n",
    "    le = le_dict[col]\n",
    "    test_features[col] = le.transform(test_features[col])\n",
    "\n",
    "# 스케일링\n",
    "test_scaled = scaler.transform(test_features)\n",
    "\n",
    "# -------------------------------\n",
    "# ✅ CatBoost용 원본 카테고리 유지\n",
    "# -------------------------------\n",
    "test_cat = test_features.copy()"
   ]
  },
  {
   "cell_type": "code",
   "execution_count": 68,
   "id": "143bde15",
   "metadata": {},
   "outputs": [
    {
     "name": "stdout",
     "output_type": "stream",
     "text": [
      "✅ 예측 완료: call119_ensemble_predictions.csv\n"
     ]
    }
   ],
   "source": [
    "# -------------------------------\n",
    "# ✅ 예측\n",
    "# -------------------------------\n",
    "xgb_preds = xgb_model.predict(test_scaled)\n",
    "cat_preds = cat_model.predict(test_cat)\n",
    "\n",
    "# 앙상블\n",
    "final_preds = 0.55 * xgb_preds + 0.45 * cat_preds\n",
    "\n",
    "# -------------------------------\n",
    "# ✅ 결과 저장\n",
    "# -------------------------------\n",
    "output_df = pd.read_csv(\"test_call119.csv\")\n",
    "output_df[\"call_count\"] = np.round(final_preds).astype(int)\n",
    "output_df.to_csv(\"call119_ensemble_predictions.csv\", index=False)\n",
    "\n",
    "print(\"✅ 예측 완료: call119_ensemble_predictions.csv\")"
   ]
  },
  {
   "cell_type": "code",
   "execution_count": 69,
   "id": "5cb799da",
   "metadata": {},
   "outputs": [
    {
     "name": "stdout",
     "output_type": "stream",
     "text": [
      "평균제곱값: 5.02749713571503, 합계: 20869\n"
     ]
    }
   ],
   "source": [
    "from sklearn.metrics import mean_squared_error\n",
    "\n",
    "# 파일 경로 설정\n",
    "file1 = 'call119_ensemble_predictions.csv'\n",
    "\n",
    "# CSV 파일 읽기\n",
    "df1 = pd.read_csv(file1)\n",
    "\n",
    "# call_count 열 평균 및 합계 계산\n",
    "mean_squared1 = (df1['call_count'] ** 2).mean()\n",
    "sum1 = df1['call_count'].sum()\n",
    "\n",
    "print(f\"평균제곱값: {mean_squared1}, 합계: {sum1}\")"
   ]
  }
 ],
 "metadata": {
  "kernelspec": {
   "display_name": "Python 3",
   "language": "python",
   "name": "python3"
  },
  "language_info": {
   "codemirror_mode": {
    "name": "ipython",
    "version": 3
   },
   "file_extension": ".py",
   "mimetype": "text/x-python",
   "name": "python",
   "nbconvert_exporter": "python",
   "pygments_lexer": "ipython3",
   "version": "3.12.10"
  }
 },
 "nbformat": 4,
 "nbformat_minor": 5
}
